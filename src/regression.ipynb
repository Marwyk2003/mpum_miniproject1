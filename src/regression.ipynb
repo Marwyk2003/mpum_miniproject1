{
 "cells": [
  {
   "cell_type": "markdown",
   "source": [
    "! pip install numpy\n",
    "! pip install pandas\n",
    "! pip install matplotlib\n",
    "! pip install seaborn"
   ],
   "metadata": {
    "collapsed": false
   }
  },
  {
   "cell_type": "code",
   "outputs": [],
   "source": [
    "import numpy as np\n",
    "import pandas as pd\n",
    "import matplotlib.pyplot as plt\n",
    "import seaborn as sns"
   ],
   "metadata": {
    "ExecuteTime": {
     "end_time": "2024-04-03T21:39:15.810998Z",
     "start_time": "2024-04-03T21:39:15.808058Z"
    }
   },
   "execution_count": 1
  },
  {
   "cell_type": "code",
   "outputs": [],
   "source": [
    "from models import *\n",
    "from regularizations import *"
   ],
   "metadata": {
    "collapsed": false,
    "ExecuteTime": {
     "end_time": "2024-04-03T21:39:15.817344Z",
     "start_time": "2024-04-03T21:39:15.814193Z"
    }
   },
   "execution_count": 2
  },
  {
   "cell_type": "code",
   "execution_count": 3,
   "metadata": {
    "ExecuteTime": {
     "end_time": "2024-04-03T21:39:15.826358Z",
     "start_time": "2024-04-03T21:39:15.818386Z"
    }
   },
   "outputs": [
    {
     "name": "stdout",
     "output_type": "stream",
     "text": [
      "train:  (1499, 7)\n",
      "validate:  (375, 7)\n",
      "test:  (125, 7)\n"
     ]
    }
   ],
   "source": [
    "df = pd.read_csv('dane.data', sep='\\t', names=[f'x{i}' for i in range(1, 7)]+['y'])\n",
    "def partition(train, valid):\n",
    "    assert train + valid < 1\n",
    "    \n",
    "    df_train = df.sample(frac=train)\n",
    "    df_valid = df.drop(df_train.index).sample(frac=valid/(1-train))\n",
    "    df_test = df.drop(df_train.index).drop(df_valid.index)\n",
    "    \n",
    "    return df_train, df_valid, df_test\n",
    "\n",
    "df_train, df_valid, df_test = partition(3/4, 3/16)\n",
    "print(\"train: \", df_train.shape)\n",
    "print(\"validate: \", df_valid.shape)\n",
    "print(\"test: \", df_test.shape)"
   ]
  },
  {
   "cell_type": "code",
   "outputs": [
    {
     "data": {
      "text/plain": "((1499, 7), (1499, 1))"
     },
     "execution_count": 4,
     "metadata": {},
     "output_type": "execute_result"
    }
   ],
   "source": [
    "class MinMaxScaler:\n",
    "    def __init__(self, A):\n",
    "        self.shift = A.min()\n",
    "        self.factor = A.max()-A.min()\n",
    "    \n",
    "    def scale(self, A):\n",
    "        return (A-self.shift)/self.factor\n",
    "    \n",
    "def get_data(df):\n",
    "    y = df['y'].to_numpy()\n",
    "    y = y.reshape([y.shape[0], 1])\n",
    "    \n",
    "\n",
    "    X = df.drop('y', axis=1)\n",
    "    X.insert(0, 'x0', [1] * df.shape[0])\n",
    "    X = X.to_numpy()\n",
    "    \n",
    "    return X, y\n",
    "\n",
    "train_X, train_y = get_data(df_train)\n",
    "valid_X, valid_y = get_data(df_valid)\n",
    "test_X, test_y = get_data(df_test)\n",
    "train_X.shape, train_y.shape"
   ],
   "metadata": {
    "collapsed": false,
    "ExecuteTime": {
     "end_time": "2024-04-03T21:39:15.836737Z",
     "start_time": "2024-04-03T21:39:15.827178Z"
    }
   },
   "execution_count": 4
  },
  {
   "cell_type": "code",
   "outputs": [],
   "source": [
    "scale_X = MinMaxScaler(train_X)\n",
    "train_X = scale_X.scale(train_X)\n",
    "valid_X = scale_X.scale(valid_X)\n",
    "test_X = scale_X.scale(test_X)\n",
    "\n",
    "scale_y = MinMaxScaler(train_y)\n",
    "train_y = scale_y.scale(train_y)\n",
    "valid_y = scale_y.scale(valid_y)\n",
    "test_y = scale_y.scale(test_y)"
   ],
   "metadata": {
    "collapsed": false,
    "ExecuteTime": {
     "end_time": "2024-04-03T21:39:15.840864Z",
     "start_time": "2024-04-03T21:39:15.838161Z"
    }
   },
   "execution_count": 5
  },
  {
   "cell_type": "code",
   "outputs": [],
   "source": [
    "# class BaseModel:\n",
    "#     def __init__(self, X, y):\n",
    "#         self.X = X\n",
    "#         self.y = y\n",
    "# \n",
    "#     def pred(self, X, theta):        \n",
    "#         return np.dot(X, theta)\n",
    "# \n",
    "#     def train(self, num_epochs, step_size=0.1):\n",
    "#         N, D = self.X.shape\n",
    "#         theta = np.zeros([D, 1])\n",
    "#         loss=0\n",
    "#         for epoch in range(num_epochs):\n",
    "#             ypred = self.pred(self.X, theta)\n",
    "#             loss = self._mse(self.y, ypred, theta)\n",
    "#             gradient = self._grad(self.X, self.y, theta)\n",
    "#             theta = self._step(theta, gradient, step_size)\n",
    "#         return theta, loss\n",
    "#     \n",
    "#     def _mse(self, y, ypred, theta):\n",
    "#        raise NotImplementedError\n",
    "#     \n",
    "#     def _grad(self, X, y, theta):\n",
    "#         raise NotImplementedError\n",
    "#     \n",
    "#     def _step(self, theta, grad, step_size):\n",
    "#         raise NotImplementedError\n",
    "#     \n",
    "#     def analytical(self):\n",
    "#         raise NotImplementedError\n",
    "#     "
   ],
   "metadata": {
    "collapsed": false,
    "ExecuteTime": {
     "end_time": "2024-04-03T21:39:15.843802Z",
     "start_time": "2024-04-03T21:39:15.841763Z"
    }
   },
   "execution_count": 6
  },
  {
   "cell_type": "code",
   "outputs": [],
   "source": [
    "# class BaseRegularization:\n",
    "#     def cost(self, theta):\n",
    "#         raise NotImplementedError\n",
    "#     \n",
    "#     def grad(self, theta):\n",
    "#         raise NotImplementedError"
   ],
   "metadata": {
    "collapsed": false,
    "ExecuteTime": {
     "end_time": "2024-04-03T21:39:15.846396Z",
     "start_time": "2024-04-03T21:39:15.844689Z"
    }
   },
   "execution_count": 7
  },
  {
   "cell_type": "code",
   "outputs": [],
   "source": [
    "# class RidgeRegularization(BaseRegularization):\n",
    "#     def __init__(self, l):\n",
    "#         self.l = l\n",
    "#         \n",
    "#     def cost(self, theta):\n",
    "#         return self.l * np.sum(theta**2)\n",
    "#     \n",
    "#     def grad(self, theta):\n",
    "#         return 2*theta\n",
    "        "
   ],
   "metadata": {
    "collapsed": false,
    "ExecuteTime": {
     "end_time": "2024-04-03T21:39:15.848664Z",
     "start_time": "2024-04-03T21:39:15.847183Z"
    }
   },
   "execution_count": 8
  },
  {
   "cell_type": "code",
   "outputs": [],
   "source": [
    "# class LassoRegularization(BaseRegularization):\n",
    "#     def __init__(self, l):\n",
    "#         self.l = l\n",
    "# \n",
    "#     def cost(self, theta):\n",
    "#         return self.l * np.sum(np.abs(theta))\n",
    "# \n",
    "#     def grad(self, theta):\n",
    "#         return np.sign(theta)\n"
   ],
   "metadata": {
    "collapsed": false,
    "ExecuteTime": {
     "end_time": "2024-04-03T21:39:15.851069Z",
     "start_time": "2024-04-03T21:39:15.849363Z"
    }
   },
   "execution_count": 9
  },
  {
   "cell_type": "code",
   "outputs": [],
   "source": [
    "# class LeastSquaresModel(BaseModel, BaseRegularization):\n",
    "#     def _mse(self, y, ypred, _theta=None):\n",
    "#         return np.mean((y - ypred) ** 2)\n",
    "# \n",
    "#     def _grad(self, X, y, theta):\n",
    "#         return np.dot(X.T, self.pred(X, theta)-y)/y.shape[0]\n",
    "# \n",
    "#     def _step(self, theta, grad, step_size):\n",
    "#         return theta - step_size * grad\n",
    "#     \n",
    "#     def analytical(self):\n",
    "#         A = np.dot(self.X.T, self.X)\n",
    "#         A = np.linalg.inv(A)\n",
    "#         A = np.dot(A, self.X.T)\n",
    "#         A = np.dot(A, self.y)\n",
    "#         A = A.reshape([A.shape[0],1])\n",
    "#         return A, self._mse(self.y, self.pred(self.X, A), A)"
   ],
   "metadata": {
    "collapsed": false,
    "ExecuteTime": {
     "end_time": "2024-04-03T21:39:15.853935Z",
     "start_time": "2024-04-03T21:39:15.852059Z"
    }
   },
   "execution_count": 10
  },
  {
   "cell_type": "code",
   "outputs": [],
   "source": [
    "# class RidgeLSModel(BaseModel, RidgeRegularization):\n",
    "#     def __init__(self, X, y, l):\n",
    "#         super().__init__(X, y)\n",
    "#         super(BaseModel, self).__init__(l)\n",
    "#         self.reg = super(BaseModel, self)\n",
    "#     \n",
    "#     def _mse(self, y, ypred, theta):\n",
    "#         return np.mean((y - ypred) ** 2) + self.reg.cost(theta)\n",
    "# \n",
    "#     def _grad(self, X, y, theta):\n",
    "#         return np.dot(X.T, self.pred(X, theta)-y)/y.shape[0] + self.reg.grad(theta)\n",
    "# \n",
    "#     def _step(self, theta, grad, step_size):\n",
    "#         return theta - step_size * grad\n",
    "# \n",
    "#     def analytical(self):\n",
    "#         A = np.dot(self.X.T, self.X)\n",
    "#         A += self.l*np.identity(A.shape[0], np.int64)\n",
    "#         A = np.linalg.inv(A)\n",
    "#         A = np.dot(A, self.X.T)\n",
    "#         A = np.dot(A, self.y)\n",
    "#         A = A.reshape([A.shape[0],1])\n",
    "#         return A, self._mse(self.y, self.pred(self.X, A), A)\n",
    "#     "
   ],
   "metadata": {
    "collapsed": false,
    "ExecuteTime": {
     "end_time": "2024-04-03T21:39:15.857788Z",
     "start_time": "2024-04-03T21:39:15.855487Z"
    }
   },
   "execution_count": 11
  },
  {
   "cell_type": "code",
   "outputs": [],
   "source": [
    "# class LassoLSModel(BaseModel, LassoRegularization):\n",
    "#     def __init__(self, X, y, l):\n",
    "#         super().__init__(X, y)\n",
    "#         super(BaseModel, self).__init__(l)\n",
    "#         self.reg = super(BaseModel, self)\n",
    "# \n",
    "#     def _mse(self, y, ypred, theta):\n",
    "#         return np.mean((y - ypred) ** 2) + self.reg.cost(theta)\n",
    "# \n",
    "#     def _grad(self, X, y, theta):\n",
    "#         return np.dot(X.T, self.pred(X, theta)-y)/y.shape[0] + self.reg.grad(theta)\n",
    "# \n",
    "#     def _step(self, theta, grad, step_size):\n",
    "#         return theta - step_size * grad\n",
    "# \n",
    "#     def analytical(self):\n",
    "#         ls_model = LeastSquaresModel(self.X, self.y)\n",
    "#         ls_theta, _ = ls_model.analytical()\n",
    "#         theta =  np.sign(ls_theta)*np.maximum(np.abs(ls_theta)-self.l/2, 0)\n",
    "#         y_pred = self.pred(self.X, theta)\n",
    "#         cost = self._mse(self.y, y_pred, theta)\n",
    "#         return theta, cost"
   ],
   "metadata": {
    "collapsed": false,
    "ExecuteTime": {
     "end_time": "2024-04-03T21:39:15.860383Z",
     "start_time": "2024-04-03T21:39:15.858685Z"
    }
   },
   "execution_count": 12
  },
  {
   "cell_type": "code",
   "outputs": [],
   "source": [
    "# class CustomModel(BaseModel):\n",
    "#     def __init__(self, X, y, mse, grad, step):\n",
    "#         super().__init__(X, y)\n",
    "#         self._mse = mse\n",
    "#         self._grad = grad\n",
    "#         self._step = step\n"
   ],
   "metadata": {
    "collapsed": false,
    "ExecuteTime": {
     "end_time": "2024-04-03T21:39:15.863101Z",
     "start_time": "2024-04-03T21:39:15.861456Z"
    }
   },
   "execution_count": 13
  },
  {
   "cell_type": "code",
   "outputs": [
    {
     "data": {
      "text/plain": "(array([[0.00736792],\n        [0.0292366 ],\n        [0.03669123],\n        [0.00974029],\n        [0.00616608],\n        [0.00633138],\n        [0.00605438]]),\n 0.24730439527745235)"
     },
     "execution_count": 14,
     "metadata": {},
     "output_type": "execute_result"
    }
   ],
   "source": [
    "ls_model = LeastSquaresModel(train_X, train_y)\n",
    "ls_model.train(1000, step_size=0.0001)"
   ],
   "metadata": {
    "collapsed": false,
    "ExecuteTime": {
     "end_time": "2024-04-03T21:39:15.943610Z",
     "start_time": "2024-04-03T21:39:15.865602Z"
    }
   },
   "execution_count": 14
  },
  {
   "cell_type": "code",
   "outputs": [
    {
     "data": {
      "text/plain": "(array([[ 5.06630971],\n        [-0.35137794],\n        [ 0.07492408],\n        [-0.30186809],\n        [-0.05181084],\n        [-0.23423101],\n        [-0.30686608]]),\n 0.05124387683337048)"
     },
     "execution_count": 15,
     "metadata": {},
     "output_type": "execute_result"
    }
   ],
   "source": [
    "ls_model.analytical()"
   ],
   "metadata": {
    "collapsed": false,
    "ExecuteTime": {
     "end_time": "2024-04-03T21:39:15.954691Z",
     "start_time": "2024-04-03T21:39:15.946672Z"
    }
   },
   "execution_count": 15
  },
  {
   "cell_type": "code",
   "outputs": [
    {
     "data": {
      "text/plain": "(array([[0.00669146],\n        [0.02655645],\n        [0.03332332],\n        [0.00884606],\n        [0.00560003],\n        [0.00575016],\n        [0.00549895]]),\n 0.2517791134016754)"
     },
     "execution_count": 16,
     "metadata": {},
     "output_type": "execute_result"
    }
   ],
   "source": [
    "rls_model = RidgeLSModel(train_X, train_y, 0.1)\n",
    "rls_model.train(1000, step_size=0.0001)"
   ],
   "metadata": {
    "collapsed": false,
    "ExecuteTime": {
     "end_time": "2024-04-03T21:39:16.043250Z",
     "start_time": "2024-04-03T21:39:15.957540Z"
    }
   },
   "execution_count": 16
  },
  {
   "cell_type": "code",
   "outputs": [
    {
     "data": {
      "text/plain": "(array([[ 3.72061152],\n        [-0.32325427],\n        [ 0.15217269],\n        [ 0.19847099],\n        [-0.01644203],\n        [-0.10632055],\n        [-0.26884405]]),\n 1.4609569299012064)"
     },
     "execution_count": 17,
     "metadata": {},
     "output_type": "execute_result"
    }
   ],
   "source": [
    "rls_model.analytical()"
   ],
   "metadata": {
    "collapsed": false,
    "ExecuteTime": {
     "end_time": "2024-04-03T21:39:16.050881Z",
     "start_time": "2024-04-03T21:39:16.045369Z"
    }
   },
   "execution_count": 17
  },
  {
   "cell_type": "code",
   "outputs": [
    {
     "data": {
      "text/plain": "(array([[ 1.07266196e-04],\n        [ 1.89239319e-05],\n        [ 4.62722808e-06],\n        [ 2.24099506e-05],\n        [ 3.61089249e-05],\n        [ 1.12863770e-05],\n        [-6.98146507e-05]]),\n 0.29656591076953714)"
     },
     "execution_count": 18,
     "metadata": {},
     "output_type": "execute_result"
    }
   ],
   "source": [
    "lls_model = LassoLSModel(train_X, train_y, 0.1)\n",
    "lls_model.train(1000, step_size=0.0001)"
   ],
   "metadata": {
    "collapsed": false,
    "ExecuteTime": {
     "end_time": "2024-04-03T21:39:16.141200Z",
     "start_time": "2024-04-03T21:39:16.052262Z"
    }
   },
   "execution_count": 18
  },
  {
   "cell_type": "code",
   "outputs": [
    {
     "data": {
      "text/plain": "(array([[ 5.01630971e+00],\n        [-3.01377944e-01],\n        [ 2.49240759e-02],\n        [-2.51868088e-01],\n        [-1.81084428e-03],\n        [-1.84231007e-01],\n        [-2.56866083e-01]]),\n 0.6554196582186247)"
     },
     "execution_count": 19,
     "metadata": {},
     "output_type": "execute_result"
    }
   ],
   "source": [
    "lls_model.analytical()"
   ],
   "metadata": {
    "collapsed": false,
    "ExecuteTime": {
     "end_time": "2024-04-03T21:39:16.148668Z",
     "start_time": "2024-04-03T21:39:16.142827Z"
    }
   },
   "execution_count": 19
  },
  {
   "cell_type": "code",
   "outputs": [],
   "source": [],
   "metadata": {
    "collapsed": false,
    "ExecuteTime": {
     "end_time": "2024-04-03T21:39:16.152748Z",
     "start_time": "2024-04-03T21:39:16.150709Z"
    }
   },
   "execution_count": 19
  }
 ],
 "metadata": {
  "kernelspec": {
   "display_name": "Python 3",
   "language": "python",
   "name": "python3"
  },
  "language_info": {
   "codemirror_mode": {
    "name": "ipython",
    "version": 3
   },
   "file_extension": ".py",
   "mimetype": "text/x-python",
   "name": "python",
   "nbconvert_exporter": "python",
   "pygments_lexer": "ipython3",
   "version": "3.10.12"
  }
 },
 "nbformat": 4,
 "nbformat_minor": 2
}
